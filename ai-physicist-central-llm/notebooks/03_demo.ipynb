{
 "cells": [
  {
   "cell_type": "markdown",
   "metadata": {},
   "source": [
    "# Demo: AI Physicist Central LLM\n",
    "Minimal end-to-end demonstration"
   ]
  },
  {
   "cell_type": "code",
   "execution_count": null,
   "metadata": {},
   "outputs": [],
   "source": [
    "import os, sys, glob\n",
    "from pathlib import Path\n",
    "ROOT = Path.cwd().parent if (Path.cwd().name==\"notebooks\") else Path.cwd()\n",
    "sys.path.append(str(ROOT / \"src\"))\n",
    "\n",
    "from brain.specialized_model import PhysicsLLM\n",
    "from hands.sympy_solver import SymPySolver\n",
    "from hands.unit_checker import UnitChecker\n",
    "\n",
    "brain, solver, units = PhysicsLLM(), SymPySolver(), UnitChecker()\n",
    "print(\"✓ Components loaded\")"
   ]
  },
  {
   "cell_type": "code",
   "execution_count": null,
   "metadata": {},
   "outputs": [],
   "source": [
    "q = \"Calculate the period of a pendulum with length 2m on Earth\"\n",
    "print(\"User:\", q)\n",
    "resp = brain.answer(q)\n",
    "print(\"Brain:\", resp[\"answer\"])\n",
    "\n",
    "calc = solver.calculate_pendulum_period(length=2.0)\n",
    "calc"
   ]
  },
  {
   "cell_type": "code",
   "execution_count": null,
   "metadata": {},
   "outputs": [],
   "source": [
    "solver.calculate_kinetic_energy(mass=5.0, velocity=10.0)"
   ]
  },
  {
   "cell_type": "code",
   "execution_count": null,
   "metadata": {},
   "outputs": [],
   "source": [
    "units.convert_units(10.0, \"m/s\", \"km/h\")"
   ]
  }
 ],
 "metadata": {
  "kernelspec": {
   "display_name": "Python 3",
   "language": "python",
   "name": "python3"
  },
  "language_info": {
   "name": "python",
   "version": "3.10.0"
  }
 },
 "nbformat": 4,
 "nbformat_minor": 4
}

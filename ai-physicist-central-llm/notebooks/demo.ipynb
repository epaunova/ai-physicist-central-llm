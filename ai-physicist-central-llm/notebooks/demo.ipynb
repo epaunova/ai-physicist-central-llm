{
 "cells": [
  {
   "cell_type": "markdown",
   "metadata": {},
   "source": [
    "# Demo: AI Physicist Central LLM\n",
    "Minimal end-to-end demonstration"
   ]
  },
  {
   "cell_type": "code",
   "execution_count": null,
   "metadata": {},
   "outputs": [],
   "source": [
    "import os, sys, glob\n",
    "from pathlib import Path\n",
    "ROOT = Path.cwd().parent if (Path.cwd().name==\"notebooks\") else Path.cwd()\n",
    "sys.path.append(str(ROOT / \"src\"))\n",
    "\n",
    "from brain.specialized_model import PhysicsLLM\n",
    "from hands.sympy_solver import SymPySolver\n",
    "from hands.unit_checker import UnitChecker\n",
    "\n",
    "brain, solver, units = PhysicsLLM(), SymPySolver(), UnitChecker()\n",
    "print(\"✓ Components loaded\")"
   ]
  },
  {
   "cell_type": "code",
   "execution_count": null,
   "metadata": {},
   "outputs": [],
   "source": [
    "q = \"Calculate the period of a pendulum with length 2m on Earth\"\n",

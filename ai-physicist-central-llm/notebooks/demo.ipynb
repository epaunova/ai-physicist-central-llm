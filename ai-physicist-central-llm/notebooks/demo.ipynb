import os, sys
ROOT = os.path.abspath(os.path.join(os.getcwd(), "..")) if os.path.basename(os.getcwd())=="notebooks" else os.getcwd()
SRC = os.path.join(ROOT, "src")
if SRC not in sys.path:
    sys.path.append(SRC)

from brain.specialized_model import PhysicsLLM
from hands.sympy_solver import SymPySolver
from hands.unit_checker import UnitChecker

brain = PhysicsLLM()
solver = SymPySolver()
units = UnitChecker()
print("✓ Loaded PhysicsLLM, SymPySolver, UnitChecker")

q = "Calculate the period of a pendulum with length 2m on Earth"
print("User:", q)
resp = brain.answer(q)
print("Brain:", resp["answer"])

ok = units.validate_expression("T = 2π√(L/g)", "s")
print("Hands[Units] -> valid:", ok)

calc = solver.calculate_pendulum_period(length=2.0)
calc

ke = solver.calculate_kinetic_energy(mass=5.0, velocity=10.0)
ke

conv = units.convert_units(10.0, "m/s", "km/h")
conv

from IPython.display import Image, display
import glob

candidates = glob.glob(os.path.join(ROOT, "docs", "visualizations", "*.*"))
display(Image(filename=candidates[0])) if candidates else print("No file in docs/visualizations/")

